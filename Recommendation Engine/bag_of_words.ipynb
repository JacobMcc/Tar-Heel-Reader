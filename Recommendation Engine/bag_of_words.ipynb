{
 "cells": [
  {
   "cell_type": "code",
   "execution_count": 1,
   "metadata": {
    "collapsed": false
   },
   "outputs": [],
   "source": [
    "import numpy as np \n",
    "import pandas as pd\n",
    "import pickle \n",
    "import string"
   ]
  },
  {
   "cell_type": "code",
   "execution_count": 2,
   "metadata": {
    "collapsed": false
   },
   "outputs": [],
   "source": [
    "books = pickle.load(open('thr-2016-10-5-books.pkl', 'rb'))\n",
    "text = pickle.load(open('thr-2016-10-5-text.pkl', 'rb'))"
   ]
  },
  {
   "cell_type": "code",
   "execution_count": 6,
   "metadata": {
    "collapsed": false
   },
   "outputs": [],
   "source": [
    "book_words = {i: [] for i in set(text['id'])}\n",
    "book_body = {i: \"\" for i in set(text['id'])}\n",
    "vocabulary = {}\n",
    "translator = str.maketrans({key: None for key in string.punctuation})\n",
    "\n"
   ]
  },
  {
   "cell_type": "code",
   "execution_count": 14,
   "metadata": {
    "collapsed": false
   },
   "outputs": [],
   "source": [
    "for book_id, sentence in zip(text['id'], text['text']):\n",
    "    book_body[book_id] += \" \"+sentence\n",
    "    for word in filter(lambda x: x.isalpha(), sentence.lower().translate(translator).split()):\n",
    "        if word in vocabulary:\n",
    "            vocabulary[word] += 1\n",
    "        else:\n",
    "            vocabulary[word] = 1\n",
    "        \n",
    "for book_id, sentence in zip(text['id'], text['text']):\n",
    "    for word in filter(lambda x: x.isalpha(), sentence.lower().translate(translator).split()):\n",
    "        if word in vocabulary and vocabulary[word] < 3:\n",
    "            del vocabulary[word]\n",
    "        prev_word = word\n",
    "\n",
    "for book_id, sentence in zip(text['id'], text['text']):\n",
    "    for word in filter(lambda x: x.isalpha(), sentence.lower().translate(translator).split()):\n",
    "        if word in vocabulary:\n",
    "            book_words[book_id].append(word)\n",
    "        prev_word = word"
   ]
  },
  {
   "cell_type": "code",
   "execution_count": 15,
   "metadata": {
    "collapsed": false
   },
   "outputs": [],
   "source": [
    "word_to_index = {}\n",
    "for idx, word in enumerate(sorted(vocabulary)):\n",
    "    word_to_index[word] = idx"
   ]
  },
  {
   "cell_type": "code",
   "execution_count": 16,
   "metadata": {
    "collapsed": false
   },
   "outputs": [],
   "source": [
    "book_to_vector = {}\n",
    "for book in book_words:\n",
    "    book_to_vector[book] = np.zeros(len(vocabulary))\n",
    "    for word in book_words[book]:\n",
    "        book_to_vector[book][word_to_index[word]] = 1.0\n",
    "    book_to_vector[book] = book_to_vector[book]/np.sqrt(np.dot(book_to_vector[book], book_to_vector[book]))"
   ]
  },
  {
   "cell_type": "code",
   "execution_count": 17,
   "metadata": {
    "collapsed": false
   },
   "outputs": [
    {
     "ename": "ValueError",
     "evalue": "setting an array element with a sequence.",
     "output_type": "error",
     "traceback": [
      "\u001b[1;31m---------------------------------------------------------------------------\u001b[0m",
      "\u001b[1;31mValueError\u001b[0m                                Traceback (most recent call last)",
      "\u001b[1;32m<ipython-input-17-a738aa2df024>\u001b[0m in \u001b[0;36m<module>\u001b[1;34m()\u001b[0m\n\u001b[0;32m      4\u001b[0m     \u001b[1;32mfor\u001b[0m \u001b[0mbook2\u001b[0m\u001b[1;33m,\u001b[0m \u001b[0mbook2_vec\u001b[0m \u001b[1;32min\u001b[0m \u001b[0mbook_to_vector\u001b[0m\u001b[1;33m.\u001b[0m\u001b[0mitems\u001b[0m\u001b[1;33m(\u001b[0m\u001b[1;33m)\u001b[0m\u001b[1;33m:\u001b[0m\u001b[1;33m\u001b[0m\u001b[0m\n\u001b[0;32m      5\u001b[0m         \u001b[1;32mif\u001b[0m \u001b[0mbook1\u001b[0m \u001b[1;33m!=\u001b[0m \u001b[0mbook2\u001b[0m\u001b[1;33m:\u001b[0m\u001b[1;33m\u001b[0m\u001b[0m\n\u001b[1;32m----> 6\u001b[1;33m             \u001b[0mx\u001b[0m \u001b[1;33m=\u001b[0m \u001b[0mnp\u001b[0m\u001b[1;33m.\u001b[0m\u001b[0mdot\u001b[0m\u001b[1;33m(\u001b[0m\u001b[0mbook1_vec\u001b[0m\u001b[1;33m,\u001b[0m \u001b[0mbook2_vec\u001b[0m\u001b[1;33m)\u001b[0m\u001b[1;33m\u001b[0m\u001b[0m\n\u001b[0m\u001b[0;32m      7\u001b[0m             most_similar[book1].append( \n\u001b[0;32m      8\u001b[0m                 \u001b[1;33m(\u001b[0m\u001b[1;33m-\u001b[0m\u001b[0mx\u001b[0m\u001b[1;33m,\u001b[0m \u001b[0mbook2\u001b[0m\u001b[1;33m)\u001b[0m\u001b[1;33m\u001b[0m\u001b[0m\n",
      "\u001b[1;31mValueError\u001b[0m: setting an array element with a sequence."
     ]
    }
   ],
   "source": [
    "most_similar = {}\n",
    "for (book1, book1_vec) in zip(range(10), book_to_vector.items()):\n",
    "    most_similar[book1] = []\n",
    "    for book2, book2_vec in book_to_vector.items():\n",
    "        if book1 != book2:\n",
    "            x = np.dot(book1_vec, book2_vec)\n",
    "            most_similar[book1].append( \n",
    "                (-x, book2)\n",
    "            )\n",
    "            most_similar[book1].sort()\n",
    "            if len(most_similar[book1]) > 10:\n",
    "                most_similar[book1].pop()"
   ]
  },
  {
   "cell_type": "code",
   "execution_count": null,
   "metadata": {
    "collapsed": false
   },
   "outputs": [],
   "source": [
    "most_similar"
   ]
  },
  {
   "cell_type": "code",
   "execution_count": null,
   "metadata": {
    "collapsed": false
   },
   "outputs": [],
   "source": [
    "print(book_body[131072])"
   ]
  },
  {
   "cell_type": "code",
   "execution_count": null,
   "metadata": {
    "collapsed": false
   },
   "outputs": [],
   "source": [
    "for i in most_similar[131072]:\n",
    "    print(book_body[i[1]])\n",
    "    print(\"------\")"
   ]
  },
  {
   "cell_type": "code",
   "execution_count": null,
   "metadata": {
    "collapsed": true
   },
   "outputs": [],
   "source": []
  }
 ],
 "metadata": {
  "anaconda-cloud": {},
  "kernelspec": {
   "display_name": "Python [Root]",
   "language": "python",
   "name": "Python [Root]"
  },
  "language_info": {
   "codemirror_mode": {
    "name": "ipython",
    "version": 3
   },
   "file_extension": ".py",
   "mimetype": "text/x-python",
   "name": "python",
   "nbconvert_exporter": "python",
   "pygments_lexer": "ipython3",
   "version": "3.5.2"
  }
 },
 "nbformat": 4,
 "nbformat_minor": 0
}
