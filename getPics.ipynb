{
 "cells": [
  {
   "cell_type": "code",
   "execution_count": null,
   "metadata": {
    "collapsed": true
   },
   "outputs": [],
   "source": [
    "import pickle as pk\n",
    "import requests\n",
    "import csv\n",
    "import json\n",
    "\n",
    "text = pk.load(open('thr-2016-10-5-text.pkl','rb'))\n",
    "textID = list(set(text.id))\n",
    "\n",
    "def getRes(url):\n",
    "    res = requests.get(url)\n",
    "    if res.status_code == 200:\n",
    "        data = res.json()\n",
    "        return data\n",
    "\n",
    "def pics():\n",
    "    u = []\n",
    "    for line in textID:\n",
    "        address = 'http://gbserver3.cs.unc.edu/book-as-json/?id=' + str(line)\n",
    "        data = getRes(address)\n",
    "        \n",
    "        for i in range(len(data['pages'])):\n",
    "            url = data['pages'][i]['url']\n",
    "            u.append((line,url))\n",
    "    return u\n",
    "picSet = pics()\n",
    "\n",
    "with open('picUrls.csv', 'w') as f:\n",
    "    lines = csv.writer(f)\n",
    "    lines.writerows(picSet)"
   ]
  }
 ],
 "metadata": {
  "anaconda-cloud": {},
  "kernelspec": {
   "display_name": "Python [Root]",
   "language": "python",
   "name": "Python [Root]"
  },
  "language_info": {
   "codemirror_mode": {
    "name": "ipython",
    "version": 3
   },
   "file_extension": ".py",
   "mimetype": "text/x-python",
   "name": "python",
   "nbconvert_exporter": "python",
   "pygments_lexer": "ipython3",
   "version": "3.5.2"
  }
 },
 "nbformat": 4,
 "nbformat_minor": 0
}
