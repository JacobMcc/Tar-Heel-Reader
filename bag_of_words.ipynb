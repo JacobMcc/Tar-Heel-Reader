{
 "cells": [
  {
   "cell_type": "code",
   "execution_count": 6,
   "metadata": {
    "collapsed": false
   },
   "outputs": [],
   "source": [
    "import numpy as np \n",
    "import pandas as pd\n",
    "import pickle \n",
    "import string"
   ]
  },
  {
   "cell_type": "code",
   "execution_count": 7,
   "metadata": {
    "collapsed": false
   },
   "outputs": [],
   "source": [
    "books = pickle.load(open('thr-2016-10-5-books.pkl', 'rb'))\n",
    "text = pickle.load(open('thr-2016-10-5-text.pkl', 'rb'))"
   ]
  },
  {
   "cell_type": "code",
   "execution_count": 8,
   "metadata": {
    "collapsed": false
   },
   "outputs": [],
   "source": [
    "book_words = {i: [] for i in set(text['id'])}\n",
    "book_body = {i: \"\" for i in set(text['id'])}\n",
    "vocabulary = {}\n",
    "translator = str.maketrans({key: None for key in string.punctuation})"
   ]
  },
  {
   "cell_type": "code",
   "execution_count": 10,
   "metadata": {
    "collapsed": false
   },
   "outputs": [],
   "source": [
    "for book_id, sentence in zip(text['id'], text['text']):\n",
    "    book_body[book_id] += \" \"+sentence\n",
    "    for word in filter(lambda x: x.isalpha(), sentence.lower().translate(translator).split()):\n",
    "        if word in vocabulary:\n",
    "            vocabulary[word] += 1\n",
    "        else:\n",
    "            vocabulary[word] = 1\n",
    "        \n",
    "for book_id, sentence in zip(text['id'], text['text']):\n",
    "    for word in filter(lambda x: x.isalpha(), sentence.lower().translate(translator).split()):\n",
    "        if word in vocabulary and vocabulary[word] < 3:\n",
    "            del vocabulary[word]\n",
    "        prev_word = word\n",
    "\n",
    "for book_id, sentence in zip(text['id'], text['text']):\n",
    "    for word in filter(lambda x: x.isalpha(), sentence.lower().translate(translator).split()):\n",
    "        if word in vocabulary:\n",
    "            book_words[book_id].append(word)\n",
    "        prev_word = word"
   ]
  },
  {
   "cell_type": "code",
   "execution_count": 11,
   "metadata": {
    "collapsed": false
   },
   "outputs": [],
   "source": [
    "word_to_index = {}\n",
    "for idx, word in enumerate(sorted(vocabulary)):\n",
    "    word_to_index[word] = idx"
   ]
  },
  {
   "cell_type": "code",
   "execution_count": 12,
   "metadata": {
    "collapsed": false
   },
   
   ],
   "source": [
    "book_to_vector = {}\n",
    "i = 0\n",
    "for book in book_words:\n",
    "    if i%50 == 0: \n",
    "        print(i)\n",
    "    i+=1\n",
    "    book_to_vector[book] = np.zeros(len(vocabulary))\n",
    "    for word in book_words[book]:\n",
    "        book_to_vector[book][word_to_index[word]] = 1.0\n",
    "    book_to_vector[book] = book_to_vector[book]/np.sqrt(np.dot(book_to_vector[book], book_to_vector[book]))"
   ]
  },
  {
   "cell_type": "code",
   "execution_count": 13,
   "metadata": {
    "collapsed": false
   },
   "outputs": [
    {
     "name": "stdout",
     "output_type": "stream",
     "text": [
      "131072\n",
      "131073\n",
      "131074\n",
      "131077\n",
      "131079\n",
      "131080\n",
      "131081\n",
      "131082\n",
      "131083\n",
      "131084\n"
     ]
    }
   ],
   "source": [
    "most_similar = {}\n",
    "for (_, (book1, book1_vec)) in zip(range(10), book_to_vector.items()):\n",
    "    print(book1)\n",
    "    most_similar[book1] = []\n",
    "    for book2, book2_vec in book_to_vector.items():\n",
    "        if book1 != book2:\n",
    "            x = np.dot(book1_vec, book2_vec)\n",
    "            most_similar[book1].append( \n",
    "                (-x, book2)\n",
    "            )\n",
    "            most_similar[book1].sort()\n",
    "            if len(most_similar[book1]) > 10:\n",
    "                most_similar[book1].pop()"
   ]
  },
  {
   "cell_type": "code",
   "execution_count": 14,
   "metadata": {
    "collapsed": false
   },
   "outputs": [
    {
     "data": {
      "text/plain": [
       "{131072: [(-0.3494282789073061, 82293),\n",
       "  (-0.3484341708362878, 102065),\n",
       "  (-0.34839434751244358, 128883),\n",
       "  (-0.33796318470968723, 40151),\n",
       "  (-0.32055943716938473, 107359),\n",
       "  (-0.31829753506038327, 131004),\n",
       "  (-0.31562138431599951, 152311),\n",
       "  (-0.31259770205022208, 150733),\n",
       "  (-0.30197858698510166, 156920),\n",
       "  (-0.30009379396821317, 130726)],\n",
       " 131073: [(-0.5120781465487757, 137629),\n",
       "  (-0.46534293219265549, 144659),\n",
       "  (-0.42629072222442388, 149417),\n",
       "  (-0.41596959938215061, 129933),\n",
       "  (-0.41339391146304144, 133322),\n",
       "  (-0.40315698512190046, 131420),\n",
       "  (-0.39875845743105354, 146844),\n",
       "  (-0.39775068507374756, 155065),\n",
       "  (-0.39743611216321717, 125390),\n",
       "  (-0.39608935607900486, 72387)],\n",
       " 131074: [(-0.4954150840221494, 14380),\n",
       "  (-0.36109269036423697, 42244),\n",
       "  (-0.35631341210920309, 88440),\n",
       "  (-0.34081145827384396, 123537),\n",
       "  (-0.33532637550742195, 141711),\n",
       "  (-0.33425160871869342, 129607),\n",
       "  (-0.3301250456480922, 85215),\n",
       "  (-0.32708556839752889, 85444),\n",
       "  (-0.323254091917618, 145359),\n",
       "  (-0.3216337604513384, 81075)],\n",
       " 131077: [(-0.43151697133684563, 83603),\n",
       "  (-0.38729833462074165, 91830),\n",
       "  (-0.38729833462074165, 106655),\n",
       "  (-0.38533731779422614, 149471),\n",
       "  (-0.35805743701971643, 119738),\n",
       "  (-0.35424595421603805, 1356),\n",
       "  (-0.34503277967117707, 109409),\n",
       "  (-0.33806170189140661, 92001),\n",
       "  (-0.33806170189140661, 102266),\n",
       "  (-0.33806170189140661, 139219)],\n",
       " 131079: [(-0.42379344841321004, 5586),\n",
       "  (-0.41343443289478243, 85962),\n",
       "  (-0.40522160042937677, 93578),\n",
       "  (-0.40206578006042892, 107505),\n",
       "  (-0.38622992338632728, 118922),\n",
       "  (-0.38569460791993493, 90955),\n",
       "  (-0.38138503569823695, 138156),\n",
       "  (-0.37688918072220456, 148943),\n",
       "  (-0.37382957256351113, 130846),\n",
       "  (-0.37037187349382339, 131066)],\n",
       " 131080: [(-0.47245559126153397, 151512),\n",
       "  (-0.45184805705753189, 135062),\n",
       "  (-0.42640143271122083, 119247),\n",
       "  (-0.40147753427348304, 154645),\n",
       "  (-0.40089186286863659, 102163),\n",
       "  (-0.39528470752104738, 107477),\n",
       "  (-0.37422759959187446, 71058),\n",
       "  (-0.36514837167011072, 15977),\n",
       "  (-0.36490022459988086, 83711),\n",
       "  (-0.36490022459988086, 95997)],\n",
       " 131081: [(-0.5506887917539347, 131889),\n",
       "  (-0.50395263067896967, 133450),\n",
       "  (-0.47633051162246687, 132573),\n",
       "  (-0.44908871313907178, 133899),\n",
       "  (-0.44908871313907178, 136533),\n",
       "  (-0.43643578047198484, 129932),\n",
       "  (-0.43112399091829129, 139196),\n",
       "  (-0.43049760200050513, 134133),\n",
       "  (-0.42796049251091295, 140266),\n",
       "  (-0.42479539524287324, 140407)],\n",
       " 131082: [(-0.42426406871192851, 105080),\n",
       "  (-0.42426406871192851, 113025),\n",
       "  (-0.42426406871192851, 123415),\n",
       "  (-0.3872983346207417, 102330),\n",
       "  (-0.3872983346207417, 120392),\n",
       "  (-0.3872983346207417, 132954),\n",
       "  (-0.3872983346207417, 138634),\n",
       "  (-0.3872983346207417, 144771),\n",
       "  (-0.372677996249965, 119666),\n",
       "  (-0.35856858280031811, 100057)],\n",
       " 131083: [(-0.43070552164653242, 131873),\n",
       "  (-0.37532594530273466, 18730),\n",
       "  (-0.35745328124069953, 85647),\n",
       "  (-0.33739293426931999, 111749),\n",
       "  (-0.32174472604389348, 145225),\n",
       "  (-0.3034330424545042, 155251),\n",
       "  (-0.30096463271442309, 84399),\n",
       "  (-0.30096463271442309, 118645),\n",
       "  (-0.30096463271442309, 151438),\n",
       "  (-0.29488391230979433, 112162)],\n",
       " 131084: [(-0.33136449962381642, 1041),\n",
       "  (-0.31252705510589029, 65004),\n",
       "  (-0.30914201116765583, 104257),\n",
       "  (-0.30797365987311975, 134375),\n",
       "  (-0.3035714285714286, 106631),\n",
       "  (-0.29649972666444058, 119368),\n",
       "  (-0.29327786272050055, 74411),\n",
       "  (-0.2863513306204547, 97867),\n",
       "  (-0.2863513306204547, 123224),\n",
       "  (-0.28620988762312638, 140470)]}"
      ]
     },
     "execution_count": 14,
     "metadata": {},
     "output_type": "execute_result"
    }
   ],
   "source": [
    "most_similar"
   ]
  },
  {
   "cell_type": "code",
   "execution_count": 15,
   "metadata": {
    "collapsed": false
   },
   "outputs": [
    {
     "name": "stdout",
     "output_type": "stream",
     "text": [
      " Columbus sailed the ocean blue Columbus Day is observed on the first Monday after October 12th. Columbus sailed to the Canary Islands and Cuba and Santa Domingo. His ship was pretty. Columbus 'discovered' the New World but he was looking for a route to the West Indies. There were millions of people already living in the Americas when Columbus accidently arrived here. Columbus made a big impact because he made Europe and the rest of the world aware of vast new continents. In fourteen hundred and ninety two Columbus sailed the ocean blue. He returned again in 1493, 1498, and 1502 but he never found a route to the West Indies. And on October 12, one of his crew members spotted land. And today the Americas have become a melting pot of people from all over the world.\n"
     ]
    }
   ],
   "source": [
    "print(book_body[131072])"
   ]
  },
  {
   "cell_type": "code",
   "execution_count": 16,
   "metadata": {
    "collapsed": false
   },
   "outputs": [
    {
     "name": "stdout",
     "output_type": "stream",
     "text": [
      " Christopher Columbus, Explorer Christopher Columbus was an explorer. He sailed the ocean blue in 1492 for Queen Isabella. He was looking for new land. Columbus took three ships called the Nina, the Pinta, and the Santa Maria. He sailed west from Spain to reach \"The East.\" Instead, he discovered a new world. We now call this land North America.\n",
      "------\n",
      " THE ADVENTURES OF SNAKE AND FROG ONCE UPON A TIME THERE WAS A SNAKE AND A FROG. THEY WERE THE BEST OF FRIENDS. ONE DAY SOMETHING HAPPENED. A GIRL FOUND THE FROG AND TOOK IT HOME WITH HER. THE SNAKE LOOKED FOR THE FROG, BUT COULD NOT FIND HIS FRIEND. SNAKE WAS VERY WORRIED. THE GIRL TOOK FROG TO A LAND CALLED AMERICA. FROG MISSED HIS FRIEND THE SNAKE LIVING IN AFRICA. FROG FOUND A WAY TO ESCAPE FROM THE GIRL. HE HOPPED TO THE  OCEAN AND FOUND a SHIP. HE WAS LUCKY BECAUSE THIS SHIP WAS GOING TO AFRICA. WHEN FROG GOT TO AFRICA HE HOPPED AROUND UNTIL HE FOUND SNAKE. THEY HAD A BIG EMBRACE AND BECAME BEST FRIENDS AGAIN!\n",
      "\n",
      "THE END\n",
      "------\n",
      " Captain James Cook: Explorer In 1768 Captain James Cook went to explore the world. First he went to Tahiti and made a map. He also collected plants and animals. Then he went to look for a southern continent. He sailed to New Zealand. He sailed all around the two islands. He made another map. He claimed the land for England. He kept sailing. He sailed to Australia. He sailed to Sydney and landed for a while. Then he kept sailing. He sailed up the side of Australia but he got stuck on a reef. There was a hole in the ship. Captain Cook and the crew got the ship off the reef and took it to the land.  It took seven weeks to fix it. He sailed to the top of Australia. He made another map. He claimed the land for England. Then he sailed back to Europe. The journey took four years but he found a new land.  The people in England were very happy! To find out more read \"Captain Cook: Around the World\"\n",
      "------\n",
      " Christopher Columbus Columbus sailed the ocean blue,\n",
      "ocean blue, ocean blue.\n",
      "Columbus sailed the ocean blue\n",
      "in 1492. He sailed west to reach the East,\n",
      "reach the East, reach the East.\n",
      "He sailed west to reach the East\n",
      "in 1492. Asian shores he never reached,\n",
      "never reached, never reached.\n",
      "Asian shores he never reached,\n",
      "in 1492. Instead, a whole new land he found,\n",
      "land he found, land he found.\n",
      "Instead, a whole new land he found,\n",
      "in 1492.\n",
      "------\n",
      " The Squirrel and The Winter There was once a little squirrel. The squirrel lived in the oak trees in the woods. One day the squirrel decided to gather nuts and acorns for the winter. He searched high and low for some acorns to store for the winter in his tree. But there were no acorns in sight. The squirrel could feel a cold breeze on his tail. Winter was coming! He raced from tree to tree looking for acorns, when suddenly he spotted Mr. Rabbit hopping along. \"Come down here squirrel\" Said Mr. Rabbit. He took the squirrel to his den, and there was a pile of acorns! \"You can stay here for the winter\" said Mr.Rabbit. The squirrel was never cold or hungry again.\n",
      "------\n",
      " Christopher Columbus Christopher Columbus was a sailor. The King and Queen gave Christopher Columbus money to find a new land. He went on a long journey to find a new land. Christopher Columbus sailed on 3 ships: the Nina, Pinta, and Santa Maria. Christopher Columbus found a new land on his journey. It was called America. We live in North America. We celebrate Christopher Columbus on the second Monday of every October.\n",
      "------\n",
      " A New Home Anthony Castillo was born in the Dominican Republic, a country in the Caribbean Sea. Later, the 8-year-old moved to New York City. Anthony did not like living in the United States at first. He started to like his new home after he made some friends. Anthony feels like he has already \"seen the world\" by having living in two countries. Many people are like Anthony. A recent government report says 56 million Americans come from another country. The United States is called a \"melting pot.\" This is because many people's relatives have come to the U.S. from other countries. They are called immigrants. People move to the U.S. from many countries in the world. Many immigrants are from South America or Asia. The U.S. is famous for being a very diverse place, with people of all kids of background. And that is great!\n",
      "------\n",
      " Carlos the Sea Turtle This is Carlos the Sea Turtle. Carlos made many friends all over the ocean. Polly, the Sea Lion, always had a big crush on Carlos, but Carlos' heart was already taken... Carlos was in love with Cindy. They met when they were just babies. The two went to Turtle High School together. They started dating at Turtle University. After Turtle U, the two decided to get married and start a family together. Their family grew very large. The two had 400 babies at once. It was a huge responsibility. Carlos and Cindy had to say goodbye to their babies. They were ready to enter the ocean all on their own! Carlos was never lonely after his children left. He met plenty of interesting creatures. Here he is with his first human! Carlos and Cindy grew old together until they were 120 years old!\n",
      "------\n",
      " Moby Dick The story of Moby Dick Ishmael and Queequeg go on a whaling ship together called the Pequod. This is Ishmael. This is the captain of the ship.\n",
      "Captain Ahab.  He is scarey. Ahab is looking for Moby Dick, the Great White Whale. Captain Ahab looks all over the world for Moby Dick.  They see other ships that have seen him. In a storm the ship is damaged. Finally, Ahab sees the whale.  His crew tries to harpoon Moby Dick.  But he gets away. Harpoons. The next day, Ahab spears Moby Dick.  He is mad and wrecks Captain Ahab's ship. The ship sinks and Captain Ahab is killed. Ishmael is rescued by another ship.  He is the only one alive.\n",
      "------\n",
      " Columbus Day Columbus Day We celebrate a lot of holidays during the year. This is Christopher Columbus. Christopher Columbus was an explorer who discovered America. On October 12th we celebrate Columbus Day. In 1492 Columbus sailed the ocean blue. He was exploring the world by sailing the ocean. Columbus took three ships to explore.  They were called the Nina, the Pinta, and the Santa Maria. He was really trying to find a better way to get to India to buy spices. Columbus and his crew landed in America on October 11th, 1492. Columbus changed the way we look at maps. Before him, everyone thought the world was flat.  He figured out it was round. Thank you Columbus for finding America and letting us stay home from school!! What do you want to explore?\n",
      "------\n"
     ]
    }
   ],
   "source": [
    "for i in most_similar[131072]:\n",
    "    print(book_body[i[1]])\n",
    "    print(\"------\")"
   ]
  },
  {
   "cell_type": "code",
   "execution_count": null,
   "metadata": {
    "collapsed": true
   },
   "outputs": [],
   "source": []
  }
 ],
 "metadata": {
  "anaconda-cloud": {},
  "kernelspec": {
   "display_name": "Python [threnv]",
   "language": "python",
   "name": "Python [threnv]"
  },
  "language_info": {
   "codemirror_mode": {
    "name": "ipython",
    "version": 3
   },
   "file_extension": ".py",
   "mimetype": "text/x-python",
   "name": "python",
   "nbconvert_exporter": "python",
   "pygments_lexer": "ipython3",
   "version": "3.5.2"
  }
 },
 "nbformat": 4,
 "nbformat_minor": 0
}
