{
 "cells": [
  {
   "cell_type": "code",
   "execution_count": null,
   "metadata": {
    "collapsed": true
   },
   "outputs": [],
   "source": [
    "#Flickr key: cff83b39da75cd79897386706ffd4ba0\n",
    "#Secret: b915512a46e9ae79"
   ]
  },
  {
   "cell_type": "markdown",
   "metadata": {},
   "source": [
    "Associate tags from flickr with a picture's id. We will have a book's id from getPics. We can also use getPics to get sentences for a given picture. Need to make a helper function to find important words from a page and also probably include important words for a book for a picture as well."
   ]
  },
  {
   "cell_type": "code",
   "execution_count": 1,
   "metadata": {
    "collapsed": false
   },
   "outputs": [],
   "source": [
    "import flickrapi\n",
    "import pickle as pk\n",
    "import requests\n",
    "import csv\n",
    "import json\n",
    "import time\n",
    "\n",
    "text = pk.load(open('thr-2016-10-5-text.pkl','rb'))\n",
    "textID = list(set(text.id))"
   ]
  },
  {
   "cell_type": "code",
   "execution_count": 2,
   "metadata": {
    "collapsed": true
   },
   "outputs": [],
   "source": [
    "api_key = u'cff83b39da75cd79897386706ffd4ba0'\n",
    "api_secret = u'b915512a46e9ae79'\n",
    "\n",
    "flickr = flickrapi.FlickrAPI(api_key, api_secret, format = 'parsed-json')"
   ]
  },
  {
   "cell_type": "code",
   "execution_count": 3,
   "metadata": {
    "collapsed": false
   },
   "outputs": [
    {
     "data": {
      "text/plain": [
       "'Image from page 250 of \"Christopher Columbus and the New World of his discovery : a narrative\" (1906)'"
      ]
     },
     "execution_count": 3,
     "metadata": {},
     "output_type": "execute_result"
    }
   ],
   "source": [
    "test = flickr.photos.getInfo(photo_id = 14775987011)\n",
    "#test['photo']['tags'][then a list of dicts here]\n",
    "test['photo']['title']['_content']"
   ]
  },
  {
   "cell_type": "code",
   "execution_count": 4,
   "metadata": {
    "collapsed": false
   },
   "outputs": [
    {
     "data": {
      "text/plain": [
       "\"'tags': {'tag': [{'_content': 'chopwellwoods',\\n     'author': '41888973@N00',\\n     'authorname': 'Sam Judson',\\n     'id': '78188-291793938-5385467',\\n     'machine_tag': 0,\\n     'raw': 'chopwellwoods'}\""
      ]
     },
     "execution_count": 4,
     "metadata": {},
     "output_type": "execute_result"
    }
   ],
   "source": [
    "#Note that the actual tags are accessed via a dict starting with tags then tag, which returns a list of dicts\n",
    "#Loop through the list and access the tags via _content\n",
    "''''tags': {'tag': [{'_content': 'chopwellwoods',\n",
    "     'author': '41888973@N00',\n",
    "     'authorname': 'Sam Judson',\n",
    "     'id': '78188-291793938-5385467',\n",
    "     'machine_tag': 0,\n",
    "     'raw': 'chopwellwoods'}'''"
   ]
  },
  {
   "cell_type": "code",
   "execution_count": 8,
   "metadata": {
    "collapsed": false
   },
   "outputs": [
    {
     "name": "stdout",
     "output_type": "stream",
     "text": [
      "14592458919\n",
      "['', 'cache', 'images', '19', '14592458919_f88abe90f9_t.jpg']\n"
     ]
    }
   ],
   "source": [
    "url = \"/cache/images/19/14592458919_f88abe90f9_t.jpg\"\n",
    "first = url.split(\"/\")\n",
    "second = first[-1].split(\"_\")[0]\n",
    "second = int(second)\n",
    "anotherTest = flickr.photos.getInfo(photo_id = second)\n",
    "print(second)\n",
    "print(first)"
   ]
  },
  {
   "cell_type": "code",
   "execution_count": 92,
   "metadata": {
    "collapsed": false
   },
   "outputs": [],
   "source": [
    "def getRes(url):\n",
    "    res = requests.get(url)\n",
    "    if res.status_code == 200:\n",
    "        data = res.json()\n",
    "        return data\n",
    "\n",
    "def pics(ids):\n",
    "    u = []\n",
    "    pic_info = {book_id: {} for book_id in ids}\n",
    "    for line in ids:\n",
    "        address = 'http://gbserver3.cs.unc.edu/book-as-json/?id=' + str(line)\n",
    "        data = getRes(address)\n",
    "        \n",
    "        for i in range(len(data['pages'])):\n",
    "            url = data['pages'][i]['url']\n",
    "            photo = url.split(\"/\")\n",
    "            thr_photo = photo[-1]\n",
    "            photo = photo[-1].split(\"_\")[0]\n",
    "\n",
    "            pic_info[line][photo] = {}\n",
    "            pic_info[line][photo][\"tags\"] = []\n",
    "            try:\n",
    "                f_info = flickr.photos.getInfo(photo_id = photo)\n",
    "            except:\n",
    "                break\n",
    "            title = f_info['photo']['title']['_content']\n",
    "            pic_info[line][photo][\"title\"] = title\n",
    "            tag_info = f_info['photo']['tags'] #stores a list of dicts with '_content' as key we want\n",
    "            if len(tag_info) != 0:\n",
    "                \n",
    "                for k in range(len(tag_info)):\n",
    "                    \n",
    "                    tag = tag_info['tag'][k]['_content']\n",
    "                    if tag not in pic_info[line][photo][\"tags\"]: \n",
    "                        pic_info[line][photo][\"tags\"].append(tag)\n",
    "            u.append((line,url))\n",
    "            time.sleep(0.6)\n",
    "    return u,pic_info"
   ]
  },
  {
   "cell_type": "code",
   "execution_count": 90,
   "metadata": {
    "collapsed": false
   },
   "outputs": [
    {
     "data": {
      "text/plain": [
       "{131072: ['bookidchristophercolu02youn',\n",
       "  'pictou',\n",
       "  'publicdomain',\n",
       "  'iphone',\n",
       "  'thiene',\n",
       "  'numeros',\n",
       "  'ocean',\n",
       "  'impressedbeauty',\n",
       "  'esb'],\n",
       " 131073: ['hands',\n",
       "  'yellowmongoose',\n",
       "  'door',\n",
       "  'tracks',\n",
       "  'friends',\n",
       "  'kitten',\n",
       "  'bw',\n",
       "  'dinosaur',\n",
       "  'california',\n",
       "  'canonef28105mmf3545usm',\n",
       "  'jimyongkim',\n",
       "  'newyork',\n",
       "  'bike',\n",
       "  '24flickr',\n",
       "  'change'],\n",
       " 131074: ['giraffe', 'animal'],\n",
       " 131077: ['miley', 'hannah', 'new'],\n",
       " 131079: ['orange',\n",
       "  'agriculture',\n",
       "  'cimmyt',\n",
       "  'lafayettelearninggarden',\n",
       "  'organic',\n",
       "  'garden',\n",
       "  'pumpkin',\n",
       "  'beloit'],\n",
       " 131080: ['ahs', 'utpa', 'milwaukee', 'nikon'],\n",
       " 131081: ['spoon', 'prarieartsfestival', 'collection'],\n",
       " 131082: ['utpa', '18u', 'ahs'],\n",
       " 131083: ['cat',\n",
       "  'arnomeintjes',\n",
       "  'eating',\n",
       "  '2011',\n",
       "  'pencil',\n",
       "  'sunisshinning',\n",
       "  'november',\n",
       "  'muirwoods',\n",
       "  'sky',\n",
       "  'icecream',\n",
       "  'fire',\n",
       "  'flickr',\n",
       "  'kittens',\n",
       "  'thecatnipcarnival',\n",
       "  'kiwi',\n",
       "  'cherries',\n",
       "  'bowl',\n",
       "  'empirebootcompany',\n",
       "  'nike',\n",
       "  'macro',\n",
       "  'leaf',\n",
       "  'hayat',\n",
       "  'sad'],\n",
       " 131084: []}"
      ]
     },
     "execution_count": 90,
     "metadata": {},
     "output_type": "execute_result"
    }
   ],
   "source": [
    "textID = textID[:10]\n",
    "urls, tagger = pics(textID)\n",
    "tagger"
   ]
  },
  {
   "cell_type": "code",
   "execution_count": null,
   "metadata": {
    "collapsed": true
   },
   "outputs": [],
   "source": []
  }
 ],
 "metadata": {
  "anaconda-cloud": {},
  "kernelspec": {
   "display_name": "Python [Root]",
   "language": "python",
   "name": "Python [Root]"
  },
  "language_info": {
   "codemirror_mode": {
    "name": "ipython",
    "version": 3
   },
   "file_extension": ".py",
   "mimetype": "text/x-python",
   "name": "python",
   "nbconvert_exporter": "python",
   "pygments_lexer": "ipython3",
   "version": "3.5.2"
  }
 },
 "nbformat": 4,
 "nbformat_minor": 0
}
